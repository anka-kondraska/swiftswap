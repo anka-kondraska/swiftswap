{
 "cells": [
  {
   "cell_type": "code",
   "execution_count": 3,
   "metadata": {
    "collapsed": false
   },
   "outputs": [],
   "source": [
    "from faker import Faker\n",
    "import simplejson\n",
    "import networkx as nx\n",
    "import matplotlib.pyplot as plt\n",
    "import plotly.plotly as py\n",
    "%matplotlib inline"
   ]
  },
  {
   "cell_type": "code",
   "execution_count": null,
   "metadata": {
    "collapsed": false
   },
   "outputs": [],
   "source": [
    "\n"
   ]
  },
  {
   "cell_type": "code",
   "execution_count": 6,
   "metadata": {
    "collapsed": true
   },
   "outputs": [],
   "source": [
    "fake = Faker()"
   ]
  },
  {
   "cell_type": "code",
   "execution_count": 7,
   "metadata": {
    "collapsed": true
   },
   "outputs": [],
   "source": [
    "fake.seed(4321)"
   ]
  },
  {
   "cell_type": "code",
   "execution_count": 8,
   "metadata": {
    "collapsed": false
   },
   "outputs": [
    {
     "data": {
      "text/plain": [
       "u'Opera/8.36.(Windows NT 4.0; it-IT) Presto/2.9.161 Version/10.00'"
      ]
     },
     "execution_count": 8,
     "metadata": {},
     "output_type": "execute_result"
    }
   ],
   "source": [
    "fake.opera()"
   ]
  },
  {
   "cell_type": "code",
   "execution_count": 9,
   "metadata": {
    "collapsed": true
   },
   "outputs": [],
   "source": [
    "fake_data = {}"
   ]
  },
  {
   "cell_type": "code",
   "execution_count": 10,
   "metadata": {
    "collapsed": true
   },
   "outputs": [],
   "source": [
    "for _ in xrange(25):\n",
    "    fake_data[fake.name()] = [fake.job(), fake.job()]"
   ]
  },
  {
   "cell_type": "code",
   "execution_count": 11,
   "metadata": {
    "collapsed": false
   },
   "outputs": [
    {
     "name": "stdout",
     "output_type": "stream",
     "text": [
      "{u'Maurice Wallace': ['Town planner', 'Scientist, research (medical)'], u'Heather Thomas': ['Animal nutritionist', 'Engineer, site'], u'Amanda Wright': ['Building services engineer', 'Artist'], u'Amber Duran': ['Building surveyor', 'Civil engineer, contracting'], u'Jennifer Sutton': ['Aid worker', 'Dentist'], u'Edward Thompson': ['Computer games developer', 'Teaching laboratory technician'], u'Sandra Garcia': ['Insurance account manager', 'Scientist, research (physical sciences)'], u'Angela Elliott': ['Plant breeder/geneticist', 'Psychologist, clinical'], u'Leonard Brandt': ['Scientist, research (physical sciences)', 'Psychologist, prison and probation services'], u'David Williams': ['Metallurgist', 'Scientific laboratory technician'], u'Nicole Valenzuela': ['Broadcast journalist', 'Recruitment consultant'], u'Bobby Barnes': ['Senior tax professional/tax inspector', 'Restaurant manager'], u'David Morales': ['Psychiatrist', 'Engineer, biomedical'], u'Margaret James': ['Mudlogger', 'Conservation officer, historic buildings'], u'Stephanie Dixon': ['Scientist, product/process development', 'Further education lecturer'], u'Jamie Meyer': ['Recruitment consultant', 'Sales professional, IT'], u'Robert Adams': ['Production assistant, television', 'Engineer, electrical'], u'Greg Thompson': ['Print production planner', 'Theatre stage manager'], u'Michael Stokes': ['Surveyor, quantity', 'Education officer, museum'], u'Mrs. Jessica Douglas DDS': ['Best boy', 'Banker'], u'Chelsea Keith': ['Furniture conservator/restorer', 'Theme park manager'], u'Amy Madden': ['Patent attorney', 'Health and safety inspector'], u'John Castro': ['Lecturer, further education', 'Ambulance person'], u'Brenda Rivera': ['Furniture conservator/restorer', 'Accountant, chartered certified'], u'Matthew Garza DDS': ['Optometrist', 'Education administrator']}\n"
     ]
    }
   ],
   "source": [
    "print fake_data"
   ]
  },
  {
   "cell_type": "code",
   "execution_count": null,
   "metadata": {
    "collapsed": false
   },
   "outputs": [],
   "source": []
  },
  {
   "cell_type": "code",
   "execution_count": 12,
   "metadata": {
    "collapsed": false
   },
   "outputs": [
    {
     "name": "stdout",
     "output_type": "stream",
     "text": [
      "[(u'Maurice Wallace', ['Town planner', 'Scientist, research (medical)']), (u'Heather Thomas', ['Animal nutritionist', 'Engineer, site']), (u'Amanda Wright', ['Building services engineer', 'Artist']), (u'Amber Duran', ['Building surveyor', 'Civil engineer, contracting']), (u'Jennifer Sutton', ['Aid worker', 'Dentist']), (u'Edward Thompson', ['Computer games developer', 'Teaching laboratory technician']), (u'Sandra Garcia', ['Insurance account manager', 'Scientist, research (physical sciences)']), (u'Angela Elliott', ['Plant breeder/geneticist', 'Psychologist, clinical']), (u'Leonard Brandt', ['Scientist, research (physical sciences)', 'Psychologist, prison and probation services']), (u'David Williams', ['Metallurgist', 'Scientific laboratory technician']), (u'Nicole Valenzuela', ['Broadcast journalist', 'Recruitment consultant']), (u'Bobby Barnes', ['Senior tax professional/tax inspector', 'Restaurant manager']), (u'David Morales', ['Psychiatrist', 'Engineer, biomedical']), (u'Margaret James', ['Mudlogger', 'Conservation officer, historic buildings']), (u'Stephanie Dixon', ['Scientist, product/process development', 'Further education lecturer']), (u'Jamie Meyer', ['Recruitment consultant', 'Sales professional, IT']), (u'Robert Adams', ['Production assistant, television', 'Engineer, electrical']), (u'Greg Thompson', ['Print production planner', 'Theatre stage manager']), (u'Michael Stokes', ['Surveyor, quantity', 'Education officer, museum']), (u'Mrs. Jessica Douglas DDS', ['Best boy', 'Banker']), (u'Chelsea Keith', ['Furniture conservator/restorer', 'Theme park manager']), (u'Amy Madden', ['Patent attorney', 'Health and safety inspector']), (u'John Castro', ['Lecturer, further education', 'Ambulance person']), (u'Brenda Rivera', ['Furniture conservator/restorer', 'Accountant, chartered certified']), (u'Matthew Garza DDS', ['Optometrist', 'Education administrator'])]\n"
     ]
    }
   ],
   "source": [
    "fake_data = list(fake_data.items())\n",
    "print fake_data"
   ]
  },
  {
   "cell_type": "code",
   "execution_count": 13,
   "metadata": {
    "collapsed": false
   },
   "outputs": [],
   "source": [
    "lines=[\"Animal technologist\",\"Animal Curator\",\"Paramedic Translator\",\"Clinical scientist\"]"
   ]
  },
  {
   "cell_type": "code",
   "execution_count": 14,
   "metadata": {
    "collapsed": false
   },
   "outputs": [
    {
     "data": {
      "text/plain": [
       "[('Curator', 'Animal'),\n",
       " ('Translator', 'Paramedic'),\n",
       " ('Clinical', 'scientist'),\n",
       " ('Animal', 'technologist')]"
      ]
     },
     "execution_count": 14,
     "metadata": {},
     "output_type": "execute_result"
    }
   ],
   "source": [
    "G = nx.parse_edgelist(lines, nodetype = str)\n",
    "G.edges()"
   ]
  },
  {
   "cell_type": "code",
   "execution_count": 15,
   "metadata": {
    "collapsed": false
   },
   "outputs": [],
   "source": [
    "D = nx.Graph()"
   ]
  },
  {
   "cell_type": "code",
   "execution_count": null,
   "metadata": {
    "collapsed": false
   },
   "outputs": [],
   "source": []
  },
  {
   "cell_type": "code",
   "execution_count": 16,
   "metadata": {
    "collapsed": false
   },
   "outputs": [
    {
     "ename": "AttributeError",
     "evalue": "'list' object has no attribute 'values'",
     "output_type": "error",
     "traceback": [
      "\u001b[0;31m---------------------------------------------------------------------------\u001b[0m",
      "\u001b[0;31mAttributeError\u001b[0m                            Traceback (most recent call last)",
      "\u001b[0;32m<ipython-input-16-21d88a007424>\u001b[0m in \u001b[0;36m<module>\u001b[0;34m()\u001b[0m\n\u001b[0;32m----> 1\u001b[0;31m \u001b[0;32mfor\u001b[0m \u001b[0m_\u001b[0m \u001b[0;32min\u001b[0m \u001b[0mxrange\u001b[0m\u001b[0;34m(\u001b[0m\u001b[0mlen\u001b[0m\u001b[0;34m(\u001b[0m\u001b[0mfake_data\u001b[0m\u001b[0;34m.\u001b[0m\u001b[0mvalues\u001b[0m\u001b[0;34m(\u001b[0m\u001b[0;34m)\u001b[0m\u001b[0;34m[\u001b[0m\u001b[0;36m1\u001b[0m\u001b[0;34m:\u001b[0m\u001b[0;34m]\u001b[0m\u001b[0;34m)\u001b[0m\u001b[0;34m)\u001b[0m\u001b[0;34m:\u001b[0m\u001b[0;34m\u001b[0m\u001b[0m\n\u001b[0m\u001b[1;32m      2\u001b[0m     \u001b[0mG\u001b[0m \u001b[0;34m=\u001b[0m \u001b[0mnx\u001b[0m\u001b[0;34m.\u001b[0m\u001b[0mparse_edgelist\u001b[0m\u001b[0;34m(\u001b[0m\u001b[0mfake_data\u001b[0m\u001b[0;34m.\u001b[0m\u001b[0mvalues\u001b[0m\u001b[0;34m(\u001b[0m\u001b[0;34m)\u001b[0m\u001b[0;34m[\u001b[0m\u001b[0m_\u001b[0m\u001b[0;34m]\u001b[0m\u001b[0;34m,\u001b[0m \u001b[0mdata\u001b[0m \u001b[0;34m=\u001b[0m \u001b[0;34m(\u001b[0m\u001b[0;34m(\u001b[0m\u001b[0;34m'from'\u001b[0m\u001b[0;34m,\u001b[0m \u001b[0mstr\u001b[0m\u001b[0;34m)\u001b[0m\u001b[0;34m,\u001b[0m\u001b[0;34m(\u001b[0m\u001b[0;34m'to'\u001b[0m\u001b[0;34m,\u001b[0m \u001b[0mstr\u001b[0m\u001b[0;34m)\u001b[0m\u001b[0;34m)\u001b[0m\u001b[0;34m)\u001b[0m\u001b[0;34m\u001b[0m\u001b[0m\n\u001b[1;32m      3\u001b[0m \u001b[0;34m\u001b[0m\u001b[0m\n",
      "\u001b[0;31mAttributeError\u001b[0m: 'list' object has no attribute 'values'"
     ]
    }
   ],
   "source": [
    "for _ in xrange(len(fake_data.values()[1:])):\n",
    "    G = nx.parse_edgelist(fake_data.values()[_], data = (('from', str),('to', str)))\n",
    "    "
   ]
  },
  {
   "cell_type": "code",
   "execution_count": 17,
   "metadata": {
    "collapsed": false
   },
   "outputs": [
    {
     "data": {
      "text/plain": [
       "['Curator',\n",
       " 'Translator',\n",
       " 'Clinical',\n",
       " 'Animal',\n",
       " 'Paramedic',\n",
       " 'technologist',\n",
       " 'scientist']"
      ]
     },
     "execution_count": 17,
     "metadata": {},
     "output_type": "execute_result"
    }
   ],
   "source": [
    "G.nodes()"
   ]
  },
  {
   "cell_type": "code",
   "execution_count": 18,
   "metadata": {
    "collapsed": false
   },
   "outputs": [
    {
     "data": {
      "text/plain": [
       "[('Curator', 'Animal', {}),\n",
       " ('Translator', 'Paramedic', {}),\n",
       " ('Clinical', 'scientist', {}),\n",
       " ('Animal', 'technologist', {})]"
      ]
     },
     "execution_count": 18,
     "metadata": {},
     "output_type": "execute_result"
    }
   ],
   "source": [
    "G.edges(data=True)"
   ]
  },
  {
   "cell_type": "code",
   "execution_count": 19,
   "metadata": {
    "collapsed": false
   },
   "outputs": [
    {
     "data": {
      "text/plain": [
       "[('Curator', 'Animal'),\n",
       " ('Translator', 'Paramedic'),\n",
       " ('Clinical', 'scientist'),\n",
       " ('Animal', 'technologist')]"
      ]
     },
     "execution_count": 19,
     "metadata": {},
     "output_type": "execute_result"
    }
   ],
   "source": [
    "G.edges()"
   ]
  },
  {
   "cell_type": "code",
   "execution_count": 20,
   "metadata": {
    "collapsed": true
   },
   "outputs": [],
   "source": [
    "import pickle\n",
    "\n",
    "\n",
    "output = open('data.pkl', 'wb')\n",
    "\n",
    "# Pickle dictionary using protocol 0.\n",
    "pickle.dump(fake_data, output)\n",
    "\n",
    "\n",
    "output.close()"
   ]
  },
  {
   "cell_type": "code",
   "execution_count": 21,
   "metadata": {
    "collapsed": false
   },
   "outputs": [],
   "source": [
    "favorite_color = pickle.load( open( \"data.pkl\", \"rb\" ) )"
   ]
  },
  {
   "cell_type": "code",
   "execution_count": 22,
   "metadata": {
    "collapsed": false
   },
   "outputs": [
    {
     "data": {
      "text/plain": [
       "[(u'Maurice Wallace', ['Town planner', 'Scientist, research (medical)']),\n",
       " (u'Heather Thomas', ['Animal nutritionist', 'Engineer, site']),\n",
       " (u'Amanda Wright', ['Building services engineer', 'Artist']),\n",
       " (u'Amber Duran', ['Building surveyor', 'Civil engineer, contracting']),\n",
       " (u'Jennifer Sutton', ['Aid worker', 'Dentist']),\n",
       " (u'Edward Thompson',\n",
       "  ['Computer games developer', 'Teaching laboratory technician']),\n",
       " (u'Sandra Garcia',\n",
       "  ['Insurance account manager', 'Scientist, research (physical sciences)']),\n",
       " (u'Angela Elliott', ['Plant breeder/geneticist', 'Psychologist, clinical']),\n",
       " (u'Leonard Brandt',\n",
       "  ['Scientist, research (physical sciences)',\n",
       "   'Psychologist, prison and probation services']),\n",
       " (u'David Williams', ['Metallurgist', 'Scientific laboratory technician']),\n",
       " (u'Nicole Valenzuela', ['Broadcast journalist', 'Recruitment consultant']),\n",
       " (u'Bobby Barnes',\n",
       "  ['Senior tax professional/tax inspector', 'Restaurant manager']),\n",
       " (u'David Morales', ['Psychiatrist', 'Engineer, biomedical']),\n",
       " (u'Margaret James',\n",
       "  ['Mudlogger', 'Conservation officer, historic buildings']),\n",
       " (u'Stephanie Dixon',\n",
       "  ['Scientist, product/process development', 'Further education lecturer']),\n",
       " (u'Jamie Meyer', ['Recruitment consultant', 'Sales professional, IT']),\n",
       " (u'Robert Adams',\n",
       "  ['Production assistant, television', 'Engineer, electrical']),\n",
       " (u'Greg Thompson', ['Print production planner', 'Theatre stage manager']),\n",
       " (u'Michael Stokes', ['Surveyor, quantity', 'Education officer, museum']),\n",
       " (u'Mrs. Jessica Douglas DDS', ['Best boy', 'Banker']),\n",
       " (u'Chelsea Keith', ['Furniture conservator/restorer', 'Theme park manager']),\n",
       " (u'Amy Madden', ['Patent attorney', 'Health and safety inspector']),\n",
       " (u'John Castro', ['Lecturer, further education', 'Ambulance person']),\n",
       " (u'Brenda Rivera',\n",
       "  ['Furniture conservator/restorer', 'Accountant, chartered certified']),\n",
       " (u'Matthew Garza DDS', ['Optometrist', 'Education administrator'])]"
      ]
     },
     "execution_count": 22,
     "metadata": {},
     "output_type": "execute_result"
    }
   ],
   "source": [
    "favorite_color"
   ]
  },
  {
   "cell_type": "code",
   "execution_count": 23,
   "metadata": {
    "collapsed": true
   },
   "outputs": [],
   "source": [
    "ls=[]"
   ]
  },
  {
   "cell_type": "code",
   "execution_count": 24,
   "metadata": {
    "collapsed": true
   },
   "outputs": [],
   "source": [
    "for name in favorite_color:\n",
    "    ls.append(name)\n",
    "    "
   ]
  },
  {
   "cell_type": "code",
   "execution_count": 25,
   "metadata": {
    "collapsed": false
   },
   "outputs": [
    {
     "data": {
      "text/plain": [
       "0"
      ]
     },
     "execution_count": 25,
     "metadata": {},
     "output_type": "execute_result"
    }
   ],
   "source": [
    "len(D.nodes())"
   ]
  },
  {
   "cell_type": "code",
   "execution_count": 26,
   "metadata": {
    "collapsed": false
   },
   "outputs": [],
   "source": [
    "ls = [(\"Animal\",\"Ergonomist\"),(\"Ergonomist\",\"technologist\"),('Database',\"technologist\"),('Database','Database'),('doctor','butcher'),('lawyer','carpenter'),('plumber', 'student'),('teacher','student'),('butcher', 'doctor'),('principle','engineer'),('egineer','doctor'),('enginer','lawyer'),('store clerk', 'carpenter'),('store clerk', 'carpenter'),('store clerk', 'carpenter'),('store clerk', 'carpenter')]"
   ]
  },
  {
   "cell_type": "code",
   "execution_count": 27,
   "metadata": {
    "collapsed": false
   },
   "outputs": [],
   "source": [
    "D.add_edges_from(ls)"
   ]
  },
  {
   "cell_type": "code",
   "execution_count": 28,
   "metadata": {
    "collapsed": false
   },
   "outputs": [
    {
     "data": {
      "image/png": "[encoded data removed]",
      "text/plain": [
       "<matplotlib.figure.Figure at 0x11772e1d0>"
      ]
     },
     "metadata": {},
     "output_type": "display_data"
    }
   ],
   "source": [
    "nx.draw(D)"
   ]
  },
  {
   "cell_type": "code",
   "execution_count": 29,
   "metadata": {
    "collapsed": false
   },
   "outputs": [
    {
     "data": {
      "image/png": "[encoded data removed]",
      "text/plain": [
       "<matplotlib.figure.Figure at 0x1177c7250>"
      ]
     },
     "metadata": {},
     "output_type": "display_data"
    }
   ],
   "source": [
    "nx.convert_node_labels_to_integers(D)\n",
    "nx.draw(D)"
   ]
  },
  {
   "cell_type": "code",
   "execution_count": 30,
   "metadata": {
    "collapsed": false
   },
   "outputs": [
    {
     "data": {
      "text/plain": [
       "{'Animal': {'Database': 1,\n",
       "  'Ergonomist': 1,\n",
       "  'butcher': 0,\n",
       "  'carpenter': 0,\n",
       "  'doctor': 0,\n",
       "  'egineer': 0,\n",
       "  'engineer': 0,\n",
       "  'enginer': 0,\n",
       "  'lawyer': 0,\n",
       "  'plumber': 0,\n",
       "  'principle': 0,\n",
       "  'store clerk': 0,\n",
       "  'student': 0,\n",
       "  'teacher': 0,\n",
       "  'technologist': 1},\n",
       " 'Database': {'Animal': 1,\n",
       "  'Ergonomist': 1,\n",
       "  'butcher': 0,\n",
       "  'carpenter': 0,\n",
       "  'doctor': 0,\n",
       "  'egineer': 0,\n",
       "  'engineer': 0,\n",
       "  'enginer': 0,\n",
       "  'lawyer': 0,\n",
       "  'plumber': 0,\n",
       "  'principle': 0,\n",
       "  'store clerk': 0,\n",
       "  'student': 0,\n",
       "  'teacher': 0,\n",
       "  'technologist': 1},\n",
       " 'Ergonomist': {'Animal': 1,\n",
       "  'Database': 1,\n",
       "  'butcher': 0,\n",
       "  'carpenter': 0,\n",
       "  'doctor': 0,\n",
       "  'egineer': 0,\n",
       "  'engineer': 0,\n",
       "  'enginer': 0,\n",
       "  'lawyer': 0,\n",
       "  'plumber': 0,\n",
       "  'principle': 0,\n",
       "  'store clerk': 0,\n",
       "  'student': 0,\n",
       "  'teacher': 0,\n",
       "  'technologist': 1},\n",
       " 'butcher': {'Animal': 0,\n",
       "  'Database': 0,\n",
       "  'Ergonomist': 0,\n",
       "  'carpenter': 0,\n",
       "  'doctor': 1,\n",
       "  'egineer': 1,\n",
       "  'engineer': 0,\n",
       "  'enginer': 0,\n",
       "  'lawyer': 0,\n",
       "  'plumber': 0,\n",
       "  'principle': 0,\n",
       "  'store clerk': 0,\n",
       "  'student': 0,\n",
       "  'teacher': 0,\n",
       "  'technologist': 0},\n",
       " 'carpenter': {'Animal': 0,\n",
       "  'Database': 0,\n",
       "  'Ergonomist': 0,\n",
       "  'butcher': 0,\n",
       "  'doctor': 0,\n",
       "  'egineer': 0,\n",
       "  'engineer': 0,\n",
       "  'enginer': 1,\n",
       "  'lawyer': 1,\n",
       "  'plumber': 0,\n",
       "  'principle': 0,\n",
       "  'store clerk': 1,\n",
       "  'student': 0,\n",
       "  'teacher': 0,\n",
       "  'technologist': 0},\n",
       " 'doctor': {'Animal': 0,\n",
       "  'Database': 0,\n",
       "  'Ergonomist': 0,\n",
       "  'butcher': 1,\n",
       "  'carpenter': 0,\n",
       "  'egineer': 1,\n",
       "  'engineer': 0,\n",
       "  'enginer': 0,\n",
       "  'lawyer': 0,\n",
       "  'plumber': 0,\n",
       "  'principle': 0,\n",
       "  'store clerk': 0,\n",
       "  'student': 0,\n",
       "  'teacher': 0,\n",
       "  'technologist': 0},\n",
       " 'egineer': {'Animal': 0,\n",
       "  'Database': 0,\n",
       "  'Ergonomist': 0,\n",
       "  'butcher': 1,\n",
       "  'carpenter': 0,\n",
       "  'doctor': 1,\n",
       "  'engineer': 0,\n",
       "  'enginer': 0,\n",
       "  'lawyer': 0,\n",
       "  'plumber': 0,\n",
       "  'principle': 0,\n",
       "  'store clerk': 0,\n",
       "  'student': 0,\n",
       "  'teacher': 0,\n",
       "  'technologist': 0},\n",
       " 'engineer': {'Animal': 0,\n",
       "  'Database': 0,\n",
       "  'Ergonomist': 0,\n",
       "  'butcher': 0,\n",
       "  'carpenter': 0,\n",
       "  'doctor': 0,\n",
       "  'egineer': 0,\n",
       "  'enginer': 0,\n",
       "  'lawyer': 0,\n",
       "  'plumber': 0,\n",
       "  'principle': 1,\n",
       "  'store clerk': 0,\n",
       "  'student': 0,\n",
       "  'teacher': 0,\n",
       "  'technologist': 0},\n",
       " 'enginer': {'Animal': 0,\n",
       "  'Database': 0,\n",
       "  'Ergonomist': 0,\n",
       "  'butcher': 0,\n",
       "  'carpenter': 1,\n",
       "  'doctor': 0,\n",
       "  'egineer': 0,\n",
       "  'engineer': 0,\n",
       "  'lawyer': 1,\n",
       "  'plumber': 0,\n",
       "  'principle': 0,\n",
       "  'store clerk': 1,\n",
       "  'student': 0,\n",
       "  'teacher': 0,\n",
       "  'technologist': 0},\n",
       " 'lawyer': {'Animal': 0,\n",
       "  'Database': 0,\n",
       "  'Ergonomist': 0,\n",
       "  'butcher': 0,\n",
       "  'carpenter': 1,\n",
       "  'doctor': 0,\n",
       "  'egineer': 0,\n",
       "  'engineer': 0,\n",
       "  'enginer': 1,\n",
       "  'plumber': 0,\n",
       "  'principle': 0,\n",
       "  'store clerk': 1,\n",
       "  'student': 0,\n",
       "  'teacher': 0,\n",
       "  'technologist': 0},\n",
       " 'plumber': {'Animal': 0,\n",
       "  'Database': 0,\n",
       "  'Ergonomist': 0,\n",
       "  'butcher': 0,\n",
       "  'carpenter': 0,\n",
       "  'doctor': 0,\n",
       "  'egineer': 0,\n",
       "  'engineer': 0,\n",
       "  'enginer': 0,\n",
       "  'lawyer': 0,\n",
       "  'principle': 0,\n",
       "  'store clerk': 0,\n",
       "  'student': 1,\n",
       "  'teacher': 1,\n",
       "  'technologist': 0},\n",
       " 'principle': {'Animal': 0,\n",
       "  'Database': 0,\n",
       "  'Ergonomist': 0,\n",
       "  'butcher': 0,\n",
       "  'carpenter': 0,\n",
       "  'doctor': 0,\n",
       "  'egineer': 0,\n",
       "  'engineer': 1,\n",
       "  'enginer': 0,\n",
       "  'lawyer': 0,\n",
       "  'plumber': 0,\n",
       "  'store clerk': 0,\n",
       "  'student': 0,\n",
       "  'teacher': 0,\n",
       "  'technologist': 0},\n",
       " 'store clerk': {'Animal': 0,\n",
       "  'Database': 0,\n",
       "  'Ergonomist': 0,\n",
       "  'butcher': 0,\n",
       "  'carpenter': 1,\n",
       "  'doctor': 0,\n",
       "  'egineer': 0,\n",
       "  'engineer': 0,\n",
       "  'enginer': 1,\n",
       "  'lawyer': 1,\n",
       "  'plumber': 0,\n",
       "  'principle': 0,\n",
       "  'student': 0,\n",
       "  'teacher': 0,\n",
       "  'technologist': 0},\n",
       " 'student': {'Animal': 0,\n",
       "  'Database': 0,\n",
       "  'Ergonomist': 0,\n",
       "  'butcher': 0,\n",
       "  'carpenter': 0,\n",
       "  'doctor': 0,\n",
       "  'egineer': 0,\n",
       "  'engineer': 0,\n",
       "  'enginer': 0,\n",
       "  'lawyer': 0,\n",
       "  'plumber': 1,\n",
       "  'principle': 0,\n",
       "  'store clerk': 0,\n",
       "  'teacher': 1,\n",
       "  'technologist': 0},\n",
       " 'teacher': {'Animal': 0,\n",
       "  'Database': 0,\n",
       "  'Ergonomist': 0,\n",
       "  'butcher': 0,\n",
       "  'carpenter': 0,\n",
       "  'doctor': 0,\n",
       "  'egineer': 0,\n",
       "  'engineer': 0,\n",
       "  'enginer': 0,\n",
       "  'lawyer': 0,\n",
       "  'plumber': 1,\n",
       "  'principle': 0,\n",
       "  'store clerk': 0,\n",
       "  'student': 1,\n",
       "  'technologist': 0},\n",
       " 'technologist': {'Animal': 1,\n",
       "  'Database': 1,\n",
       "  'Ergonomist': 1,\n",
       "  'butcher': 0,\n",
       "  'carpenter': 0,\n",
       "  'doctor': 0,\n",
       "  'egineer': 0,\n",
       "  'engineer': 0,\n",
       "  'enginer': 0,\n",
       "  'lawyer': 0,\n",
       "  'plumber': 0,\n",
       "  'principle': 0,\n",
       "  'store clerk': 0,\n",
       "  'student': 0,\n",
       "  'teacher': 0}}"
      ]
     },
     "execution_count": 30,
     "metadata": {},
     "output_type": "execute_result"
    }
   ],
   "source": [
    "\n",
    "nx.all_pairs_node_connectivity(D)"
   ]
  },
  {
   "cell_type": "code",
   "execution_count": 31,
   "metadata": {
    "collapsed": false
   },
   "outputs": [
    {
     "data": {
      "text/plain": [
       "[('enginer', 'lawyer'),\n",
       " ('plumber', 'student'),\n",
       " ('Ergonomist', 'technologist'),\n",
       " ('Ergonomist', 'Animal'),\n",
       " ('lawyer', 'carpenter'),\n",
       " ('doctor', 'egineer'),\n",
       " ('doctor', 'butcher'),\n",
       " ('student', 'teacher'),\n",
       " ('Database', 'technologist'),\n",
       " ('Database', 'Database'),\n",
       " ('carpenter', 'store clerk'),\n",
       " ('principle', 'engineer')]"
      ]
     },
     "execution_count": 31,
     "metadata": {},
     "output_type": "execute_result"
    }
   ],
   "source": [
    "plt.show();\n",
    "D.edges()"
   ]
  },
  {
   "cell_type": "code",
   "execution_count": 32,
   "metadata": {
    "collapsed": false
   },
   "outputs": [
    {
     "ename": "NetworkXError",
     "evalue": "Node ('Animal', 'Ergonomist') has no position.",
     "output_type": "error",
     "traceback": [
      "\u001b[0;31m---------------------------------------------------------------------------\u001b[0m",
      "\u001b[0;31mNetworkXError\u001b[0m                             Traceback (most recent call last)",
      "\u001b[0;32m<ipython-input-32-89e5776a152f>\u001b[0m in \u001b[0;36m<module>\u001b[0;34m()\u001b[0m\n\u001b[1;32m      7\u001b[0m                        \u001b[0mnode_color\u001b[0m\u001b[0;34m=\u001b[0m\u001b[0;34m'r'\u001b[0m\u001b[0;34m,\u001b[0m\u001b[0;34m\u001b[0m\u001b[0m\n\u001b[1;32m      8\u001b[0m                        \u001b[0mnode_size\u001b[0m\u001b[0;34m=\u001b[0m\u001b[0;36m500\u001b[0m\u001b[0;34m,\u001b[0m\u001b[0;34m\u001b[0m\u001b[0m\n\u001b[0;32m----> 9\u001b[0;31m                    alpha=0.8)\n\u001b[0m",
      "\u001b[0;32m/Users/anka/anaconda/lib/python2.7/site-packages/networkx/drawing/nx_pylab.pyc\u001b[0m in \u001b[0;36mdraw_networkx_nodes\u001b[0;34m(G, pos, nodelist, node_size, node_color, node_shape, alpha, cmap, vmin, vmax, ax, linewidths, label, **kwds)\u001b[0m\n\u001b[1;32m    384\u001b[0m         \u001b[0mxy\u001b[0m \u001b[0;34m=\u001b[0m \u001b[0mnumpy\u001b[0m\u001b[0;34m.\u001b[0m\u001b[0masarray\u001b[0m\u001b[0;34m(\u001b[0m\u001b[0;34m[\u001b[0m\u001b[0mpos\u001b[0m\u001b[0;34m[\u001b[0m\u001b[0mv\u001b[0m\u001b[0;34m]\u001b[0m \u001b[0;32mfor\u001b[0m \u001b[0mv\u001b[0m \u001b[0;32min\u001b[0m \u001b[0mnodelist\u001b[0m\u001b[0;34m]\u001b[0m\u001b[0;34m)\u001b[0m\u001b[0;34m\u001b[0m\u001b[0m\n\u001b[1;32m    385\u001b[0m     \u001b[0;32mexcept\u001b[0m \u001b[0mKeyError\u001b[0m \u001b[0;32mas\u001b[0m \u001b[0me\u001b[0m\u001b[0;34m:\u001b[0m\u001b[0;34m\u001b[0m\u001b[0m\n\u001b[0;32m--> 386\u001b[0;31m         \u001b[0;32mraise\u001b[0m \u001b[0mnx\u001b[0m\u001b[0;34m.\u001b[0m\u001b[0mNetworkXError\u001b[0m\u001b[0;34m(\u001b[0m\u001b[0;34m'Node %s has no position.'\u001b[0m\u001b[0;34m%\u001b[0m\u001b[0me\u001b[0m\u001b[0;34m)\u001b[0m\u001b[0;34m\u001b[0m\u001b[0m\n\u001b[0m\u001b[1;32m    387\u001b[0m     \u001b[0;32mexcept\u001b[0m \u001b[0mValueError\u001b[0m\u001b[0;34m:\u001b[0m\u001b[0;34m\u001b[0m\u001b[0m\n\u001b[1;32m    388\u001b[0m         \u001b[0;32mraise\u001b[0m \u001b[0mnx\u001b[0m\u001b[0;34m.\u001b[0m\u001b[0mNetworkXError\u001b[0m\u001b[0;34m(\u001b[0m\u001b[0;34m'Bad value in node positions.'\u001b[0m\u001b[0;34m)\u001b[0m\u001b[0;34m\u001b[0m\u001b[0m\n",
      "\u001b[0;31mNetworkXError\u001b[0m: Node ('Animal', 'Ergonomist') has no position."
     ]
    },
    {
     "data": {
      "image/png": "[encoded data removed]",
      "text/plain": [
       "<matplotlib.figure.Figure at 0x1174e5710>"
      ]
     },
     "metadata": {},
     "output_type": "display_data"
    }
   ],
   "source": []
  },
  {
   "cell_type": "code",
   "execution_count": 33,
   "metadata": {
    "collapsed": true
   },
   "outputs": [],
   "source": [
    "G=nx.cubical_graph()\n",
    "pos=nx.spring_layout(G) "
   ]
  },
  {
   "cell_type": "code",
   "execution_count": 34,
   "metadata": {
    "collapsed": true
   },
   "outputs": [],
   "source": [
    "labels={}\n",
    "labels[0]=r'$a$'\n",
    "labels[1]=r'$b$'\n",
    "labels[2]=r'$c$'\n",
    "labels[3]=r'$d$'\n",
    "labels[4]=r'$\\alpha$'\n",
    "labels[5]=r'$\\beta$'\n",
    "labels[6]=r'$\\gamma$'\n",
    "labels[7]=r'$\\delta$'"
   ]
  },
  {
   "cell_type": "code",
   "execution_count": 35,
   "metadata": {
    "collapsed": true
   },
   "outputs": [],
   "source": [
    "A = nx.DiGraph()"
   ]
  },
  {
   "cell_type": "code",
   "execution_count": 36,
   "metadata": {
    "collapsed": false
   },
   "outputs": [
    {
     "data": {
      "text/plain": [
       "[]"
      ]
     },
     "execution_count": 36,
     "metadata": {},
     "output_type": "execute_result"
    }
   ],
   "source": [
    "A.nodes()"
   ]
  },
  {
   "cell_type": "code",
   "execution_count": 37,
   "metadata": {
    "collapsed": true
   },
   "outputs": [],
   "source": [
    "A.add_node(\"Anka\")"
   ]
  },
  {
   "cell_type": "code",
   "execution_count": 38,
   "metadata": {
    "collapsed": true
   },
   "outputs": [],
   "source": [
    "A.add_node(\"Nada\")"
   ]
  },
  {
   "cell_type": "code",
   "execution_count": 39,
   "metadata": {
    "collapsed": true
   },
   "outputs": [],
   "source": [
    "A.add_node(\"Franzi\")"
   ]
  },
  {
   "cell_type": "code",
   "execution_count": 40,
   "metadata": {
    "collapsed": false
   },
   "outputs": [],
   "source": [
    "A.add_edge(\"Anka\",\"Franzi\")"
   ]
  },
  {
   "cell_type": "code",
   "execution_count": 41,
   "metadata": {
    "collapsed": true
   },
   "outputs": [],
   "source": [
    "A.add_edge(\"Franzi\",\"Nada\")"
   ]
  },
  {
   "cell_type": "code",
   "execution_count": 42,
   "metadata": {
    "collapsed": false
   },
   "outputs": [
    {
     "data": {
      "image/png": "[encoded data removed]",
      "text/plain": [
       "<matplotlib.figure.Figure at 0x11a6b2210>"
      ]
     },
     "metadata": {},
     "output_type": "display_data"
    }
   ],
   "source": [
    "nx.draw_networkx(A)"
   ]
  },
  {
   "cell_type": "code",
   "execution_count": 43,
   "metadata": {
    "collapsed": true
   },
   "outputs": [],
   "source": [
    "A.add_edge(\"Franzi\",\"Anka\")"
   ]
  },
  {
   "cell_type": "code",
   "execution_count": 44,
   "metadata": {
    "collapsed": false
   },
   "outputs": [
    {
     "data": {
      "image/png": "[encoded data removed]",
      "text/plain": [
       "<matplotlib.figure.Figure at 0x11a73ac10>"
      ]
     },
     "metadata": {},
     "output_type": "display_data"
    }
   ],
   "source": [
    "nx.draw_networkx(A)"
   ]
  },
  {
   "cell_type": "code",
   "execution_count": 45,
   "metadata": {
    "collapsed": true
   },
   "outputs": [],
   "source": [
    "A.add_nodes_from([\"Natasha\",\"Jahlela\"])"
   ]
  },
  {
   "cell_type": "code",
   "execution_count": 46,
   "metadata": {
    "collapsed": true
   },
   "outputs": [],
   "source": [
    "F = nx.DiGraph()\n"
   ]
  },
  {
   "cell_type": "code",
   "execution_count": 47,
   "metadata": {
    "collapsed": false
   },
   "outputs": [],
   "source": [
    "F.add_node('Anka', {'to':'gardening', 'fro':'nails'})"
   ]
  },
  {
   "cell_type": "code",
   "execution_count": 48,
   "metadata": {
    "collapsed": false
   },
   "outputs": [],
   "source": [
    "F.add_node('Jane', {'to':'nails', 'fro':'dog walking'})"
   ]
  },
  {
   "cell_type": "code",
   "execution_count": 49,
   "metadata": {
    "collapsed": false
   },
   "outputs": [],
   "source": [
    "F.add_node('Joe', {'to':'haircut', 'fro':'lawn mowing'})"
   ]
  },
  {
   "cell_type": "code",
   "execution_count": 50,
   "metadata": {
    "collapsed": false
   },
   "outputs": [],
   "source": [
    "F.add_node('Barb', {'to':'dog walking', 'fro':'nails'})"
   ]
  },
  {
   "cell_type": "code",
   "execution_count": 51,
   "metadata": {
    "collapsed": false
   },
   "outputs": [
    {
     "ename": "NameError",
     "evalue": "name 'Z' is not defined",
     "output_type": "error",
     "traceback": [
      "\u001b[0;31m---------------------------------------------------------------------------\u001b[0m",
      "\u001b[0;31mNameError\u001b[0m                                 Traceback (most recent call last)",
      "\u001b[0;32m<ipython-input-51-63fd87c8653c>\u001b[0m in \u001b[0;36m<module>\u001b[0;34m()\u001b[0m\n\u001b[0;32m----> 1\u001b[0;31m \u001b[0mZ\u001b[0m\u001b[0;34m.\u001b[0m\u001b[0mclear\u001b[0m\u001b[0;34m\u001b[0m\u001b[0m\n\u001b[0m",
      "\u001b[0;31mNameError\u001b[0m: name 'Z' is not defined"
     ]
    }
   ],
   "source": [
    "Z.clear"
   ]
  },
  {
   "cell_type": "code",
   "execution_count": 52,
   "metadata": {
    "collapsed": false
   },
   "outputs": [],
   "source": [
    "filename = open('test_data.txt', 'r')"
   ]
  },
  {
   "cell_type": "code",
   "execution_count": 53,
   "metadata": {
    "collapsed": true
   },
   "outputs": [],
   "source": [
    "Z = nx.DiGraph()"
   ]
  },
  {
   "cell_type": "code",
   "execution_count": 54,
   "metadata": {
    "collapsed": false
   },
   "outputs": [
    {
     "name": "stdout",
     "output_type": "stream",
     "text": [
      "[('anka', {'to': 'biking', 'fro': 'gardening'}), ('becky', {'to': 'dog walking', 'fro': 'biking'}), ('jason', {'to': 'painting', 'fro': 'plumbing'}), ('boy g', {'to': 'singing', 'fro': 'programming'}), ('natalia', {'to': 'nails', 'fro': 'haircut'}), ('alysse', {'to': 'programming', 'fro': 'painting'}), ('robert', {'to': 'gardening', 'fro': 'biking'}), ('michael', {'to': 'nails', 'fro': 'dog walking'}), ('bonnie', {'to': 'programming', 'fro': 'gardening'}), ('alice', {'to': 'cooking', 'fro': 'painting'}), ('wiktoria', {'to': 'plumbing', 'fro': 'painting'}), ('daniel', {'to': 'baking', 'fro': 'knitting'}), ('leslie', {'to': 'plumbing', 'fro': 'baking'}), ('joe', {'to': 'gardening', 'fro': 'dog walking'}), ('tom', {'to': 'laundry', 'fro': 'programming'}), ('jane', {'to': 'cooking', 'fro': 'painting'}), ('damian', {'to': 'cleaning', 'fro': 'cooking'}), ('bob', {'to': 'programming', 'fro': 'nails'}), ('adam', {'to': 'cleaning', 'fro': 'baking'}), ('george', {'to': 'haircut', 'fro': 'painting'}), ('agnes', {'to': 'cleaning', 'fro': 'programming'})]\n"
     ]
    }
   ],
   "source": [
    "for line in filename:\n",
    "    line = line.strip()\n",
    "    line = line.split('|')\n",
    "    Z.add_node(line[0], {'to': line[1], 'fro': line[2]})\n",
    "print Z.nodes(data=True)  "
   ]
  },
  {
   "cell_type": "code",
   "execution_count": 55,
   "metadata": {
    "collapsed": false
   },
   "outputs": [
    {
     "name": "stdout",
     "output_type": "stream",
     "text": [
      "[('anka', 'robert'), ('anka', 'joe'), ('becky', 'anka'), ('jason', 'wiktoria'), ('jason', 'leslie'), ('boy g', 'alysse'), ('boy g', 'bob'), ('boy g', 'bonnie'), ('natalia', 'george'), ('alysse', 'jason'), ('robert', 'anka'), ('michael', 'becky'), ('bonnie', 'robert'), ('bonnie', 'joe'), ('alice', 'jason'), ('wiktoria', 'jason'), ('leslie', 'daniel'), ('joe', 'becky'), ('tom', 'alysse'), ('tom', 'bob'), ('tom', 'bonnie'), ('jane', 'jason'), ('damian', 'jane'), ('damian', 'alice'), ('bob', 'michael'), ('bob', 'natalia'), ('adam', 'daniel'), ('george', 'jason'), ('agnes', 'alysse'), ('agnes', 'bob'), ('agnes', 'bonnie')]\n"
     ]
    }
   ],
   "source": [
    "for node_r, attributes in Z.nodes(data=True):\n",
    "    attr_fro = attributes['fro']\n",
    "    Z.add_edges_from([(node_r, node) for node, attributes in Z.nodes(data=True)\n",
    "                      if attr_fro==attributes['to']])\n",
    "\n",
    "print Z.edges()"
   ]
  },
  {
   "cell_type": "code",
   "execution_count": 56,
   "metadata": {
    "collapsed": false
   },
   "outputs": [],
   "source": [
    "nx.all_pairs_node_connectivity(Z);"
   ]
  },
  {
   "cell_type": "code",
   "execution_count": 57,
   "metadata": {
    "collapsed": false
   },
   "outputs": [
    {
     "data": {
      "image/png": "[encoded data removed]",
      "text/plain": [
       "<matplotlib.figure.Figure at 0x11a4abb10>"
      ]
     },
     "metadata": {},
     "output_type": "display_data"
    }
   ],
   "source": [
    "nx.draw(Z, node_color=\"r\",edge_color='blue', with_labels=True,alpha=0.5, node_size=700, width=1, font_size=15, scale=30)"
   ]
  },
  {
   "cell_type": "code",
   "execution_count": 58,
   "metadata": {
    "collapsed": false
   },
   "outputs": [
    {
     "data": {
      "image/png": "[encoded data removed]",
      "text/plain": [
       "<matplotlib.figure.Figure at 0x103f25050>"
      ]
     },
     "metadata": {},
     "output_type": "display_data"
    }
   ],
   "source": [
    "pos = nx.circular_layout(Z, scale=2)\n",
    "nx.draw(Z, pos, with_labels=True,alpha=0.5)"
   ]
  },
  {
   "cell_type": "code",
   "execution_count": 65,
   "metadata": {
    "collapsed": false
   },
   "outputs": [
    {
     "name": "stdout",
     "output_type": "stream",
     "text": [
      "['wiktoria', 'jason']\n",
      "['anka', 'joe', 'becky']\n",
      "['anka', 'robert']\n"
     ]
    }
   ],
   "source": [
    "for m in nx.simple_cycles(Z):\n",
    "    print m"
   ]
  },
  {
   "cell_type": "code",
   "execution_count": null,
   "metadata": {
    "collapsed": false
   },
   "outputs": [],
   "source": []
  },
  {
   "cell_type": "code",
   "execution_count": null,
   "metadata": {
    "collapsed": false
   },
   "outputs": [],
   "source": []
  },
  {
   "cell_type": "code",
   "execution_count": 62,
   "metadata": {
    "collapsed": false
   },
   "outputs": [
    {
     "data": {
      "text/plain": [
       "[('Jane', {'fro': 'dog walking', 'to': 'nails'}),\n",
       " ('Anka', {'fro': 'nails', 'to': 'gardening'}),\n",
       " ('Barb', {'fro': 'nails', 'to': 'dog walking'}),\n",
       " ('Joe', {'fro': 'lawn mowing', 'to': 'haircut'})]"
      ]
     },
     "execution_count": 62,
     "metadata": {},
     "output_type": "execute_result"
    }
   ],
   "source": [
    "list(F.nodes(data=True))\n"
   ]
  },
  {
   "cell_type": "code",
   "execution_count": null,
   "metadata": {
    "collapsed": true
   },
   "outputs": [],
   "source": []
  },
  {
   "cell_type": "code",
   "execution_count": 63,
   "metadata": {
    "collapsed": false
   },
   "outputs": [
    {
     "name": "stdout",
     "output_type": "stream",
     "text": [
      "Jane {'to': 'nails', 'fro': 'dog walking'}\n",
      "Anka {'to': 'gardening', 'fro': 'nails'}\n",
      "Barb {'to': 'dog walking', 'fro': 'nails'}\n",
      "Joe {'to': 'haircut', 'fro': 'lawn mowing'}\n"
     ]
    }
   ],
   "source": [
    "for node, attributes in F.nodes(data=True):\n",
    "    print node, attributes"
   ]
  },
  {
   "cell_type": "code",
   "execution_count": null,
   "metadata": {
    "collapsed": false
   },
   "outputs": [],
   "source": [
    "# for node_r, attributes in F.nodes(data=True):\n",
    "#     key_set = set(attributes.keys())\n",
    "#     F.add_edges_from([(node_r, node) for node, attributes in F.nodes(data=True)\n",
    "#                       if key_set.intersection(set(attributes.keys()))\n",
    "#                       and node != node_r])\n",
    "\n",
    "# print(F.edges())"
   ]
  },
  {
   "cell_type": "code",
   "execution_count": null,
   "metadata": {
    "collapsed": false
   },
   "outputs": [],
   "source": []
  },
  {
   "cell_type": "code",
   "execution_count": null,
   "metadata": {
    "collapsed": false
   },
   "outputs": [],
   "source": [
    "for node_r, attributes in F.nodes(data=True):\n",
    "    attr_to = attributes['fro']\n",
    "    F.add_edges_from([(node_r, node) for node, attributes in F.nodes(data=True)\n",
    "                      if attr_to==attributes['to']])\n",
    "\n",
    "print F.edges()"
   ]
  },
  {
   "cell_type": "code",
   "execution_count": null,
   "metadata": {
    "collapsed": false
   },
   "outputs": [],
   "source": [
    "[d for n,d in F.nodes_iter(data=True)]"
   ]
  },
  {
   "cell_type": "code",
   "execution_count": null,
   "metadata": {
    "collapsed": false
   },
   "outputs": [],
   "source": [
    "attributes.values(), attributes['fro'], attributes['to']"
   ]
  },
  {
   "cell_type": "code",
   "execution_count": null,
   "metadata": {
    "collapsed": true
   },
   "outputs": [],
   "source": []
  },
  {
   "cell_type": "code",
   "execution_count": null,
   "metadata": {
    "collapsed": true
   },
   "outputs": [],
   "source": []
  },
  {
   "cell_type": "code",
   "execution_count": null,
   "metadata": {
    "collapsed": true
   },
   "outputs": [],
   "source": []
  },
  {
   "cell_type": "code",
   "execution_count": null,
   "metadata": {
    "collapsed": false
   },
   "outputs": [],
   "source": []
  },
  {
   "cell_type": "code",
   "execution_count": null,
   "metadata": {
    "collapsed": true
   },
   "outputs": [],
   "source": []
  },
  {
   "cell_type": "code",
   "execution_count": null,
   "metadata": {
    "collapsed": true
   },
   "outputs": [],
   "source": []
  }
 ],
 "metadata": {
  "kernelspec": {
   "display_name": "Python 2",
   "language": "python",
   "name": "python2"
  },
  "language_info": {
   "codemirror_mode": {
    "name": "ipython",
    "version": 2
   },
   "file_extension": ".py",
   "mimetype": "text/x-python",
   "name": "python",
   "nbconvert_exporter": "python",
   "pygments_lexer": "ipython2",
   "version": "2.7.11"
  }
 },
 "nbformat": 4,
 "nbformat_minor": 0
}
